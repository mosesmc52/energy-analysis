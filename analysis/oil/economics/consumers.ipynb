{
 "cells": [
  {
   "cell_type": "markdown",
   "id": "aef07010-38d7-4bda-a142-345070ee3133",
   "metadata": {},
   "source": [
    "Top 3 Consumers\n",
    "\n",
    "**United States:** The U.S. is the largest consumer of oil, using it primarily for transportation, industrial processes, and electricity generation. The country's vast economy and high vehicle ownership contribute significantly to its oil demand.\n",
    "\n",
    "**China:** China is the second-largest oil consumer, driven by its rapid industrialization and urbanization. The demand for oil in transportation, manufacturing, and energy production continues to grow as the country expands.\n",
    "\n",
    "**India:** India ranks as the third-largest consumer of oil. With a large and growing population, increased vehicle usage, and economic development, India's oil demand has been steadily rising."
   ]
  }
 ],
 "metadata": {
  "kernelspec": {
   "display_name": "Python 3 (ipykernel)",
   "language": "python",
   "name": "python3"
  },
  "language_info": {
   "codemirror_mode": {
    "name": "ipython",
    "version": 3
   },
   "file_extension": ".py",
   "mimetype": "text/x-python",
   "name": "python",
   "nbconvert_exporter": "python",
   "pygments_lexer": "ipython3",
   "version": "3.12.4"
  }
 },
 "nbformat": 4,
 "nbformat_minor": 5
}
