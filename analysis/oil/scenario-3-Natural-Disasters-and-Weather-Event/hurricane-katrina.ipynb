{
 "cells": [
  {
   "cell_type": "code",
   "execution_count": 1,
   "id": "dab4b3aa-a1b2-4c21-9639-a7fc9472f634",
   "metadata": {},
   "outputs": [],
   "source": [
    "import os\n",
    "import pandas as pd\n",
    "import matplotlib.pyplot as plt\n",
    "import numpy as np\n",
    "import seaborn as sns\n",
    "import matplotlib.pyplot as plt\n",
    "import scipy.stats as stats\n",
    "from arch import arch_model"
   ]
  },
  {
   "cell_type": "code",
   "execution_count": 2,
   "id": "9f3a533c-0371-48f6-a35f-4c42b6fd14b4",
   "metadata": {},
   "outputs": [],
   "source": [
    "df = pd.read_csv('./../../../data/oil-price.csv' , parse_dates=['date'])  "
   ]
  },
  {
   "cell_type": "code",
   "execution_count": 3,
   "id": "36848d9d-d14e-435f-b5ee-9aaf10da4c00",
   "metadata": {},
   "outputs": [],
   "source": [
    "df.set_index('date', inplace=True)"
   ]
  },
  {
   "cell_type": "markdown",
   "id": "4dc2dae3-1271-478c-84f7-3aeff5faf7d5",
   "metadata": {},
   "source": [
    "### Hurricane Katrina"
   ]
  },
  {
   "cell_type": "markdown",
   "id": "5906f046-70e6-4f5b-b98d-fda0734d249e",
   "metadata": {},
   "source": [
    "Hurricane Katrina, one of the most destructive hurricanes in U.S. history, struck the Gulf Coast in late **August 2005**, making landfall on **August 29, 2005**. The storm reached **Category 5** strength at its peak, though it made landfall as a **Category 3** hurricane. It primarily affected the states of Louisiana, Mississippi, and Alabama, with New Orleans suffering catastrophic flooding due to levee failures.\n",
    "\n",
    "The hurricane caused widespread devastation, particularly in New Orleans, where levees broke, flooding over 80% of the city. Over **1,800 people** died, and hundreds of thousands were displaced. Economic damage was estimated at **$125 billion**, making it one of the costliest natural disasters in U.S. history.\n",
    "\n",
    "In terms of oil markets, Katrina disrupted a significant portion of U.S. domestic oil production and refining capacity, as the Gulf of Mexico is a major hub for the industry. About **95% of oil production** and **10% of refining capacity** in the region were shut down. This led to a short-term oil supply shock, causing prices to spike globally and highlighting the vulnerability of the U.S. energy infrastructure to natural disasters."
   ]
  },
  {
   "cell_type": "markdown",
   "id": "904574f0-5352-445d-b919-77de921e1040",
   "metadata": {},
   "source": [
    "***Here’s an overview of the key impacts:***"
   ]
  },
  {
   "cell_type": "markdown",
   "id": "733e3fe6-76a4-476e-b746-966d74171aea",
   "metadata": {},
   "source": [
    "**Disruption of Oil Production**\n",
    "\n",
    "The Gulf of Mexico region accounts for a large percentage of U.S. domestic oil production. When Katrina hit in August 2005, about 95% of the Gulf’s oil production and a significant portion of its natural gas production were shut down. This created a short-term supply shock, driving up prices.\n"
   ]
  },
  {
   "cell_type": "markdown",
   "id": "b1a48a4f-8e3c-459c-97c2-cef6ea20b000",
   "metadata": {},
   "source": [
    "**Damage to Refining Infrastructure**\n",
    "\n",
    "Katrina caused extensive damage to refineries along the Gulf Coast. Around 10% of U.S. refining capacity was taken offline, which severely constrained the ability to convert crude oil into gasoline and other refined products. This led to gasoline shortages and price spikes.\n",
    "\n",
    "Refineries in states like Louisiana and Mississippi were either damaged or temporarily shut down, reducing the output of gasoline, diesel, and other oil products.\n"
   ]
  },
  {
   "cell_type": "markdown",
   "id": "7ef54d89-814b-4035-ac10-92b3e403d273",
   "metadata": {},
   "source": [
    "**Oil Price Surge**\n",
    "\n",
    "In response to the supply disruptions, oil prices surged. Before Katrina, crude oil was trading at around 65 per barrel. Following the hurricane, prices climbed to nearly 70 per barrel. Gasoline prices also spiked to over 3 per gallon in many parts of the U.S.\n",
    "\n",
    "The psychological impact on the market, in addition to the physical disruptions, further fueled volatility and speculation."
   ]
  },
  {
   "cell_type": "markdown",
   "id": "441884fa-62c5-40b7-8af6-7ad656a981cf",
   "metadata": {},
   "source": [
    "**Impact on Global Markets**\n",
    "\n",
    "Since the U.S. is a major oil consumer, disruptions in its supply chain sent ripples through global oil markets. There was an increase in demand for foreign crude to offset the loss from the Gulf, impacting oil prices internationally.\n",
    "\n",
    "The U.S. government released oil from the Strategic Petroleum Reserve (SPR) to stabilize the markets, helping to limit the longer-term impacts of the price surge.\n"
   ]
  },
  {
   "cell_type": "markdown",
   "id": "e78d7872-b22c-416a-9967-47f9a466994d",
   "metadata": {},
   "source": [
    "**Logistical and Transportation Challenges**\n",
    "\n",
    "Key shipping lanes and infrastructure were disrupted. The closure of important ports and the loss of pipeline capacity (including the Colonial Pipeline, which supplies fuel to the East Coast) created bottlenecks, making it difficult to transport oil and refined products efficiently.\n"
   ]
  },
  {
   "cell_type": "markdown",
   "id": "8da9da6e-da64-4ea4-93e5-db95f6229cbb",
   "metadata": {},
   "source": [
    "**Long-Term Effects**\n",
    "\n",
    "While the immediate price spikes were short-lived, Katrina highlighted the vulnerability of the U.S. oil supply to natural disasters, leading to discussions about energy infrastructure resilience and supply chain diversification.\n",
    "\n",
    "Some refining capacity took weeks or months to return to full operation, which continued to affect gasoline and diesel supply in the U.S. for an extended period."
   ]
  },
  {
   "cell_type": "code",
   "execution_count": null,
   "id": "731a80b9-ed3f-492d-9c4f-0c77fb2f3eee",
   "metadata": {},
   "outputs": [],
   "source": []
  }
 ],
 "metadata": {
  "kernelspec": {
   "display_name": "Python 3 (ipykernel)",
   "language": "python",
   "name": "python3"
  },
  "language_info": {
   "codemirror_mode": {
    "name": "ipython",
    "version": 3
   },
   "file_extension": ".py",
   "mimetype": "text/x-python",
   "name": "python",
   "nbconvert_exporter": "python",
   "pygments_lexer": "ipython3",
   "version": "3.12.4"
  }
 },
 "nbformat": 4,
 "nbformat_minor": 5
}
