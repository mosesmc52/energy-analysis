{
 "cells": [
  {
   "cell_type": "code",
   "execution_count": 1,
   "id": "5159998d-c77c-48d3-a4bb-9b383b01af79",
   "metadata": {},
   "outputs": [],
   "source": [
    "import os\n",
    "from fredapi import Fred\n",
    "from dotenv import find_dotenv, load_dotenv\n",
    "import pandas as pd"
   ]
  },
  {
   "cell_type": "code",
   "execution_count": 2,
   "id": "f40034da-cee7-4250-9e45-e0980a154b07",
   "metadata": {},
   "outputs": [
    {
     "data": {
      "text/plain": [
       "True"
      ]
     },
     "execution_count": 2,
     "metadata": {},
     "output_type": "execute_result"
    }
   ],
   "source": [
    "load_dotenv(find_dotenv())"
   ]
  },
  {
   "cell_type": "code",
   "execution_count": 3,
   "id": "a3eba57d-073f-4ea6-a8d5-593ddfe87d14",
   "metadata": {},
   "outputs": [],
   "source": [
    "fred = Fred(api_key=os.getenv(\"FRED_API_KEY\"))"
   ]
  },
  {
   "cell_type": "code",
   "execution_count": 4,
   "id": "b01da2eb-f016-45c2-8668-369afe230645",
   "metadata": {},
   "outputs": [],
   "source": [
    "extra_parameters = {\n",
    "    \"observation_start\": \"1990-01-04\"\n",
    "}"
   ]
  },
  {
   "cell_type": "code",
   "execution_count": 5,
   "id": "277ba119-259a-402f-8fb3-37a7a47cde13",
   "metadata": {},
   "outputs": [],
   "source": [
    "WTI_OIL = fred.get_series('DCOILWTICO',**extra_parameters)\n",
    "WTI_OIL.name=\"WTI\""
   ]
  },
  {
   "cell_type": "code",
   "execution_count": null,
   "id": "ace4f66e-7a95-43e3-a2a6-405660dbf262",
   "metadata": {},
   "outputs": [],
   "source": [
    "BRENT_OIL = fred.get_series('DCOILBRENTEU',**extra_parameters)\n",
    "BRENT_OIL.name=\"BRENT\""
   ]
  },
  {
   "cell_type": "code",
   "execution_count": null,
   "id": "48bc236c-0d7a-42be-810f-4729a43d6634",
   "metadata": {},
   "outputs": [],
   "source": [
    "DUB_OIL = fred.get_series('POILDUBUSDM',**extra_parameters)\n",
    "DUB_OIL.name=\"DUB\""
   ]
  },
  {
   "cell_type": "code",
   "execution_count": null,
   "id": "12997d0f-f8f6-4b7f-98b8-067a0b431796",
   "metadata": {},
   "outputs": [],
   "source": [
    "df = pd.concat([WTI_OIL, BRENT_OIL, DUB_OIL], axis=1)\n",
    "df.ffill(inplace=True)"
   ]
  },
  {
   "cell_type": "code",
   "execution_count": null,
   "id": "b9ee09e1-7e2c-4660-b6f4-c04bca4c0cbf",
   "metadata": {},
   "outputs": [],
   "source": [
    "df.index.name = 'date'"
   ]
  },
  {
   "cell_type": "code",
   "execution_count": null,
   "id": "d2beaac7-b2c5-4737-bb91-5df9d97c51c8",
   "metadata": {},
   "outputs": [],
   "source": [
    "df.to_csv('oil-price.csv')  "
   ]
  },
  {
   "cell_type": "code",
   "execution_count": null,
   "id": "71d08394-3d23-4164-8cad-f91c6042aa2b",
   "metadata": {},
   "outputs": [],
   "source": []
  }
 ],
 "metadata": {
  "kernelspec": {
   "display_name": "Python 3 (ipykernel)",
   "language": "python",
   "name": "python3"
  },
  "language_info": {
   "codemirror_mode": {
    "name": "ipython",
    "version": 3
   },
   "file_extension": ".py",
   "mimetype": "text/x-python",
   "name": "python",
   "nbconvert_exporter": "python",
   "pygments_lexer": "ipython3",
   "version": "3.12.4"
  }
 },
 "nbformat": 4,
 "nbformat_minor": 5
}
