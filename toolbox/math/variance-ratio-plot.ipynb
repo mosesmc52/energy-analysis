{
 "cells": [
  {
   "cell_type": "code",
   "execution_count": 1,
   "id": "14b6e38e-9f1e-4399-888b-0fce41fffc67",
   "metadata": {},
   "outputs": [
    {
     "ename": "NameError",
     "evalue": "name 'log_returns' is not defined",
     "output_type": "error",
     "traceback": [
      "\u001b[0;31m---------------------------------------------------------------------------\u001b[0m",
      "\u001b[0;31mNameError\u001b[0m                                 Traceback (most recent call last)",
      "Cell \u001b[0;32mIn[1], line 15\u001b[0m\n\u001b[1;32m     13\u001b[0m \u001b[38;5;66;03m# Step 4: Calculate variance ratios for different intervals\u001b[39;00m\n\u001b[1;32m     14\u001b[0m k_values \u001b[38;5;241m=\u001b[39m \u001b[38;5;28mrange\u001b[39m(\u001b[38;5;241m2\u001b[39m, \u001b[38;5;241m20\u001b[39m)  \u001b[38;5;66;03m# Change range as needed\u001b[39;00m\n\u001b[0;32m---> 15\u001b[0m variance_ratios \u001b[38;5;241m=\u001b[39m [variance_ratio(\u001b[43mlog_returns\u001b[49m, k) \u001b[38;5;28;01mfor\u001b[39;00m k \u001b[38;5;129;01min\u001b[39;00m k_values]\n",
      "\u001b[0;31mNameError\u001b[0m: name 'log_returns' is not defined"
     ]
    }
   ],
   "source": []
  },
  {
   "cell_type": "code",
   "execution_count": null,
   "id": "29dafd7c-b666-492f-a851-f4e58ab1a633",
   "metadata": {},
   "outputs": [],
   "source": []
  }
 ],
 "metadata": {
  "kernelspec": {
   "display_name": "Python 3 (ipykernel)",
   "language": "python",
   "name": "python3"
  },
  "language_info": {
   "codemirror_mode": {
    "name": "ipython",
    "version": 3
   },
   "file_extension": ".py",
   "mimetype": "text/x-python",
   "name": "python",
   "nbconvert_exporter": "python",
   "pygments_lexer": "ipython3",
   "version": "3.12.4"
  }
 },
 "nbformat": 4,
 "nbformat_minor": 5
}
